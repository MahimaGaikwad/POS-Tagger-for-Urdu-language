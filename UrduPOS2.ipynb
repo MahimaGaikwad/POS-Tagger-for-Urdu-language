{
  "nbformat": 4,
  "nbformat_minor": 0,
  "metadata": {
    "colab": {
      "name": "UrduPOS2.ipynb",
      "provenance": [],
      "authorship_tag": "ABX9TyMk++5TtZaPNPsGu7u6GjtC",
      "include_colab_link": true
    },
    "kernelspec": {
      "name": "python3",
      "display_name": "Python 3"
    }
  },
  "cells": [
    {
      "cell_type": "markdown",
      "metadata": {
        "id": "view-in-github",
        "colab_type": "text"
      },
      "source": [
        "<a href=\"https://colab.research.google.com/github/MahimaGaikwad/POS-Tagger-for-Urdu-language/blob/master/UrduPOS2.ipynb\" target=\"_parent\"><img src=\"https://colab.research.google.com/assets/colab-badge.svg\" alt=\"Open In Colab\"/></a>"
      ]
    },
    {
      "cell_type": "code",
      "metadata": {
        "id": "E1eXhLa-0tzq",
        "colab_type": "code",
        "colab": {
          "base_uri": "https://localhost:8080/",
          "height": 122
        },
        "outputId": "f85ec7b3-fd63-4956-fa2f-d17f2de28c93"
      },
      "source": [
        "from google.colab import drive\n",
        "drive.mount('/content/gdrive')"
      ],
      "execution_count": 1,
      "outputs": [
        {
          "output_type": "stream",
          "text": [
            "Go to this URL in a browser: https://accounts.google.com/o/oauth2/auth?client_id=947318989803-6bn6qk8qdgf4n4g3pfee6491hc0brc4i.apps.googleusercontent.com&redirect_uri=urn%3aietf%3awg%3aoauth%3a2.0%3aoob&response_type=code&scope=email%20https%3a%2f%2fwww.googleapis.com%2fauth%2fdocs.test%20https%3a%2f%2fwww.googleapis.com%2fauth%2fdrive%20https%3a%2f%2fwww.googleapis.com%2fauth%2fdrive.photos.readonly%20https%3a%2f%2fwww.googleapis.com%2fauth%2fpeopleapi.readonly\n",
            "\n",
            "Enter your authorization code:\n",
            "··········\n",
            "Mounted at /content/gdrive\n"
          ],
          "name": "stdout"
        }
      ]
    },
    {
      "cell_type": "code",
      "metadata": {
        "id": "PklCseSU05ws",
        "colab_type": "code",
        "colab": {
          "base_uri": "https://localhost:8080/",
          "height": 68
        },
        "outputId": "9ff98d24-e51f-4650-c0fb-c7206e8d63d9"
      },
      "source": [
        "import codecs\n",
        "\n",
        "tagged_sentences = codecs.open(\"/content/gdrive/My Drive/Colab Notebooks/data_lstm.txt\", encoding=\"utf-8\").readlines()\n",
        "print(tagged_sentences[0])\n",
        "\n",
        "import ast\n",
        "import numpy as np\n",
        "from keras.layers import Dense, InputLayer, Embedding, Activation\n",
        "from keras.models import Sequential\n",
        "from keras.optimizers import Adam\n",
        "from keras.preprocessing.sequence import pad_sequences\n",
        "from sklearn.model_selection import train_test_split"
      ],
      "execution_count": 3,
      "outputs": [
        {
          "output_type": "stream",
          "text": [
            "[('’', 'PN'), ('میرے', 'G'), ('بھائی', 'NN'), ('کا', 'P'), ('ای', 'PN'), ('میل', 'U'), ('آیاہے', 'VB'), ('۔', 'SM')]\n",
            "\n"
          ],
          "name": "stdout"
        },
        {
          "output_type": "stream",
          "text": [
            "Using TensorFlow backend.\n"
          ],
          "name": "stderr"
        }
      ]
    },
    {
      "cell_type": "code",
      "metadata": {
        "id": "UA3cMfVx1Ljf",
        "colab_type": "code",
        "colab": {}
      },
      "source": [
        "def logits_to_tokens(sequences, index):\n",
        "    token_sequences = []\n",
        "    for categorical_sequence in sequences:\n",
        "        token_sequence = []\n",
        "        for categorical in categorical_sequence:\n",
        "            token_sequence.append(index[np.argmax(categorical)])\n",
        "\n",
        "        token_sequences.append(token_sequence)\n",
        "\n",
        "    return token_sequences"
      ],
      "execution_count": 0,
      "outputs": []
    },
    {
      "cell_type": "code",
      "metadata": {
        "id": "QTJytM1x1V4A",
        "colab_type": "code",
        "colab": {}
      },
      "source": [
        "def to_categorical(sequences, categories):\n",
        "    cat_sequences = []\n",
        "    for s in sequences:\n",
        "        cats = []\n",
        "        for item in s:\n",
        "            cats.append(np.zeros(categories))\n",
        "            cats[-1][item] = 1.0\n",
        "        cat_sequences.append(cats)\n",
        "    return np.array(cat_sequences)\n"
      ],
      "execution_count": 0,
      "outputs": []
    },
    {
      "cell_type": "code",
      "metadata": {
        "id": "xLzkGKxC1Z3P",
        "colab_type": "code",
        "colab": {}
      },
      "source": [
        "sentences, sentence_tags = [], []\n",
        "for tagged_sentence in tagged_sentences:\n",
        "    sentence, tags = zip(*ast.literal_eval(tagged_sentence))\n",
        "    sentences.append(np.array(sentence))\n",
        "    sentence_tags.append(np.array(tags))"
      ],
      "execution_count": 0,
      "outputs": []
    },
    {
      "cell_type": "code",
      "metadata": {
        "id": "Nz6030yC1dD8",
        "colab_type": "code",
        "colab": {}
      },
      "source": [
        "(train_sentences,\n",
        " test_sentences,\n",
        " train_tags,\n",
        " test_tags) = train_test_split(sentences, sentence_tags, test_size=0.2)"
      ],
      "execution_count": 0,
      "outputs": []
    },
    {
      "cell_type": "code",
      "metadata": {
        "id": "pGjv1cTq1h9q",
        "colab_type": "code",
        "colab": {}
      },
      "source": [
        "words, tags = set([]), set([])\n",
        "\n",
        "for s in train_sentences:\n",
        "    for w in s:\n",
        "        words.add(w.lower())\n",
        "\n",
        "for ts in train_tags:\n",
        "    for t in ts:\n",
        "        tags.add(t)\n"
      ],
      "execution_count": 0,
      "outputs": []
    },
    {
      "cell_type": "code",
      "metadata": {
        "id": "564cxx8d1k8J",
        "colab_type": "code",
        "colab": {}
      },
      "source": [
        "word2index = {w: i + 2 for i, w in enumerate(list(words))}\n",
        "word2index['-PAD-'] = 0  # The special value used for padding\n",
        "word2index['-OOV-'] = 1  # The special value used for OOVs\n",
        "\n",
        "tag2index = {t: i + 1 for i, t in enumerate(list(tags))}\n",
        "tag2index['-PAD-'] = 0  # The special value used to padding\n"
      ],
      "execution_count": 0,
      "outputs": []
    },
    {
      "cell_type": "code",
      "metadata": {
        "id": "gKwTMWFE1oOy",
        "colab_type": "code",
        "colab": {}
      },
      "source": [
        "train_sentences_X, test_sentences_X, train_tags_y, test_tags_y = [], [], [], []"
      ],
      "execution_count": 0,
      "outputs": []
    },
    {
      "cell_type": "code",
      "metadata": {
        "id": "SCCTv02P1rMI",
        "colab_type": "code",
        "colab": {}
      },
      "source": [
        "for s in train_sentences:\n",
        "    s_int = []\n",
        "    for w in s:\n",
        "        try:\n",
        "            s_int.append(word2index[w.lower()])\n",
        "        except KeyError:\n",
        "            s_int.append(word2index['-OOV-'])\n",
        "\n",
        "    train_sentences_X.append(s_int)\n",
        "\n",
        "for s in test_sentences:\n",
        "    s_int = []\n",
        "    for w in s:\n",
        "        try:\n",
        "            s_int.append(word2index[w.lower()])\n",
        "        except KeyError:\n",
        "            s_int.append(word2index['-OOV-'])\n",
        "\n",
        "    test_sentences_X.append(s_int)\n"
      ],
      "execution_count": 0,
      "outputs": []
    },
    {
      "cell_type": "code",
      "metadata": {
        "id": "h3OvSPpK1urc",
        "colab_type": "code",
        "colab": {}
      },
      "source": [
        "for s in train_tags:\n",
        "    train_tags_y.append([tag2index[t] for t in s])\n",
        "\n",
        "for s in test_tags:\n",
        "    test_tags_y.append([tag2index[t] for t in s])\n",
        "\n",
        "MAX_LENGTH = len(max(train_sentences_X, key=len))"
      ],
      "execution_count": 0,
      "outputs": []
    },
    {
      "cell_type": "code",
      "metadata": {
        "id": "IoQ2Zjqc1yW0",
        "colab_type": "code",
        "colab": {}
      },
      "source": [
        "train_sentences_X = pad_sequences(train_sentences_X, maxlen=MAX_LENGTH, padding='post')\n",
        "test_sentences_X = pad_sequences(test_sentences_X, maxlen=MAX_LENGTH, padding='post')\n",
        "train_tags_y = pad_sequences(train_tags_y, maxlen=MAX_LENGTH, padding='post')\n",
        "# train_tags_y = keras.utils.to_categorical(train_tags_, len(tag2index))\n",
        "test_tags_y = pad_sequences(test_tags_y, maxlen=MAX_LENGTH, padding='post')\n",
        "# test_tags_y = keras.utils.to_categorical(test_tags_, len(tag2index))"
      ],
      "execution_count": 0,
      "outputs": []
    },
    {
      "cell_type": "code",
      "metadata": {
        "id": "3CdtRzoZ118T",
        "colab_type": "code",
        "colab": {
          "base_uri": "https://localhost:8080/",
          "height": 700
        },
        "outputId": "914cec35-c039-45c3-c004-4f5252be7401"
      },
      "source": [
        "model = Sequential()\n",
        "model.add(InputLayer(input_shape=(MAX_LENGTH,)))\n",
        "model.add(Embedding(len(word2index), 128))\n",
        "model.add(Dense(128))\n",
        "model.add(Dense(len(tag2index)))\n",
        "model.add(Activation('softmax'))\n",
        "\n",
        "model.compile(loss='categorical_crossentropy',\n",
        "              optimizer=Adam(0.001),\n",
        "              metrics=['accuracy'])\n",
        "model.fit(train_sentences_X, to_categorical(train_tags_y, len(tag2index)), batch_size=32, epochs=10, validation_split=0.2)\n",
        "\n",
        "model.summary()\n"
      ],
      "execution_count": 14,
      "outputs": [
        {
          "output_type": "stream",
          "text": [
            "/usr/local/lib/python3.6/dist-packages/tensorflow/python/framework/indexed_slices.py:434: UserWarning: Converting sparse IndexedSlices to a dense Tensor of unknown shape. This may consume a large amount of memory.\n",
            "  \"Converting sparse IndexedSlices to a dense Tensor of unknown shape. \"\n"
          ],
          "name": "stderr"
        },
        {
          "output_type": "stream",
          "text": [
            "Train on 23240 samples, validate on 5811 samples\n",
            "Epoch 1/10\n",
            "23240/23240 [==============================] - 84s 4ms/step - loss: 0.2005 - accuracy: 0.9700 - val_loss: 0.0371 - val_accuracy: 0.9867\n",
            "Epoch 2/10\n",
            "23240/23240 [==============================] - 84s 4ms/step - loss: 0.0306 - accuracy: 0.9880 - val_loss: 0.0333 - val_accuracy: 0.9870\n",
            "Epoch 3/10\n",
            "23240/23240 [==============================] - 84s 4ms/step - loss: 0.0264 - accuracy: 0.9887 - val_loss: 0.0331 - val_accuracy: 0.9869\n",
            "Epoch 4/10\n",
            "23240/23240 [==============================] - 85s 4ms/step - loss: 0.0253 - accuracy: 0.9887 - val_loss: 0.0331 - val_accuracy: 0.9864\n",
            "Epoch 5/10\n",
            "23240/23240 [==============================] - 87s 4ms/step - loss: 0.0249 - accuracy: 0.9887 - val_loss: 0.0330 - val_accuracy: 0.9867\n",
            "Epoch 6/10\n",
            "23240/23240 [==============================] - 87s 4ms/step - loss: 0.0246 - accuracy: 0.9887 - val_loss: 0.0329 - val_accuracy: 0.9870\n",
            "Epoch 7/10\n",
            "23240/23240 [==============================] - 86s 4ms/step - loss: 0.0244 - accuracy: 0.9888 - val_loss: 0.0328 - val_accuracy: 0.9871\n",
            "Epoch 8/10\n",
            "23240/23240 [==============================] - 88s 4ms/step - loss: 0.0242 - accuracy: 0.9888 - val_loss: 0.0331 - val_accuracy: 0.9867\n",
            "Epoch 9/10\n",
            "23240/23240 [==============================] - 86s 4ms/step - loss: 0.0241 - accuracy: 0.9889 - val_loss: 0.0331 - val_accuracy: 0.9870\n",
            "Epoch 10/10\n",
            "23240/23240 [==============================] - 85s 4ms/step - loss: 0.0240 - accuracy: 0.9889 - val_loss: 0.0329 - val_accuracy: 0.9871\n",
            "Model: \"sequential_1\"\n",
            "_________________________________________________________________\n",
            "Layer (type)                 Output Shape              Param #   \n",
            "=================================================================\n",
            "embedding_1 (Embedding)      (None, 281, 128)          5315200   \n",
            "_________________________________________________________________\n",
            "dense_1 (Dense)              (None, 281, 128)          16512     \n",
            "_________________________________________________________________\n",
            "dense_2 (Dense)              (None, 281, 41)           5289      \n",
            "_________________________________________________________________\n",
            "activation_1 (Activation)    (None, 281, 41)           0         \n",
            "=================================================================\n",
            "Total params: 5,337,001\n",
            "Trainable params: 5,337,001\n",
            "Non-trainable params: 0\n",
            "_________________________________________________________________\n"
          ],
          "name": "stdout"
        }
      ]
    },
    {
      "cell_type": "code",
      "metadata": {
        "id": "nXQV-Xsy16rv",
        "colab_type": "code",
        "colab": {
          "base_uri": "https://localhost:8080/",
          "height": 408
        },
        "outputId": "e675fd4f-ebcd-4098-b8d0-0be49ade1546"
      },
      "source": [
        "print(\"Original data from test samples\")\n",
        "print(test_sentences[0])\n",
        "print(test_tags[0])"
      ],
      "execution_count": 15,
      "outputs": [
        {
          "output_type": "stream",
          "text": [
            "Original data from test samples\n",
            "['اس' 'کی' 'قبر' 'کہاں' 'ہے' 'وہ' 'کب' 'اور' 'کیسے' 'دفن' 'ہوا' 'اس' 'کے'\n",
            " 'متعلق' 'صغیر' 'کے' 'جاننے' 'والوں' 'نے' 'کچھ' 'نہ' 'بتایا' '،' 'یہ' 'ان'\n",
            " 'کے' 'علم' 'میں' 'نہیں' 'تھا' '،' 'امتیاز' 'کو' 'یقین' 'ہو' 'گیا' 'کہ'\n",
            " 'اس' 'کے' 'خاوند' 'نے' 'خودکشی' 'کر' 'لی' 'ہے' '،' 'اس' 'کو' 'شادی' 'اس'\n",
            " 'کا' 'سبب' 'معلوم' 'تھا' '،' 'مگر' 'اس' 'کا' 'باپ' 'یہ' 'ماننے' 'سے'\n",
            " 'یکسر' 'منکر' 'تھا' '،' 'چنانچہ' 'اس' 'نے' 'ایک' 'بار' 'اپنی' 'بیٹی' 'سے'\n",
            " 'کہا' 'میرا' 'دل' 'کہتا' 'ہے' 'وہ' 'زندہ' 'ہے' '،' 'وہ' 'تمہاری' 'محبت'\n",
            " 'کی' 'خاطر' 'اس' 'وقت' 'تک' 'زندہ' 'رہے' 'گا' 'جب' 'تک' 'خدا' 'اس' 'کو'\n",
            " 'موت' 'کے' 'فرشتے' 'کے' 'حوالے' 'نہ' 'کر' 'دے' '،' 'میں' 'اس' 'کو' 'اچھی'\n",
            " 'طرح' 'سمجھتا' 'تمہاری' 'جگہ' 'اگر' 'وہ' 'میرا' 'بیٹا' 'ہوتا' 'تو' 'میں'\n",
            " 'خود' 'کو' 'دنیا' 'کا' 'سب' 'سے' 'خوش' 'نصیب' 'انسان' 'سمجھتا' '،' 'یہ'\n",
            " 'سن' 'کر' 'امتیاز' 'خاموش' 'رہی' '۔']\n",
            "['PP' 'P' 'NN' 'AKP' 'VB' 'PP' 'AKP' 'CC' 'AKP' 'VB' 'VB' 'PP' 'P' 'NN'\n",
            " 'NN' 'P' 'VB' 'WALA' 'P' 'Q' 'NEG' 'VB' 'PM' 'PP' 'PP' 'P' 'NN' 'P' 'NEG'\n",
            " 'VB' 'PM' 'NN' 'P' 'NN' 'VB' 'AA' 'SC' 'PP' 'P' 'NN' 'P' 'ADJ' 'VB' 'AA'\n",
            " 'TA' 'PM' 'PP' 'P' 'NN' 'PP' 'P' 'NN' 'ADJ' 'VB' 'PM' 'SC' 'PP' 'P' 'NN'\n",
            " 'PP' 'VB' 'SE' 'ADJ' 'NN' 'VB' 'PM' 'SC' 'PP' 'P' 'CA' 'NN' 'GR' 'NN'\n",
            " 'SE' 'VB' 'G' 'NN' 'VB' 'TA' 'PP' 'ADJ' 'VB' 'PM' 'PP' 'G' 'NN' 'P' 'NN'\n",
            " 'PD' 'NN' 'P' 'ADJ' 'VB' 'TA' 'AP' 'P' 'NN' 'PP' 'P' 'NN' 'P' 'NN' 'P'\n",
            " 'NN' 'NEG' 'VB' 'AA' 'PM' 'PP' 'PP' 'P' 'ADJ' 'NN' 'VB' 'G' 'NN' 'SC'\n",
            " 'PP' 'G' 'NN' 'VB' 'I' 'PP' 'RP' 'P' 'NN' 'P' 'Q' 'SE' 'ADJ' 'NN' 'NN'\n",
            " 'VB' 'PM' 'PP' 'VB' 'KER' 'NN' 'ADJ' 'VB' 'SM']\n"
          ],
          "name": "stdout"
        }
      ]
    },
    {
      "cell_type": "code",
      "metadata": {
        "id": "EBLkrEsE5WJn",
        "colab_type": "code",
        "colab": {
          "base_uri": "https://localhost:8080/",
          "height": 51
        },
        "outputId": "47057b7f-32b7-46cf-ca0d-16c9ca56fff8"
      },
      "source": [
        "scores = model.evaluate(test_sentences_X, to_categorical(test_tags_y, len(tag2index)))\n",
        "print(f\"{model.metrics_names[1]}: {scores[1] * 100}\")   # acc: 98.39311069478103"
      ],
      "execution_count": 16,
      "outputs": [
        {
          "output_type": "stream",
          "text": [
            "7263/7263 [==============================] - 4s 542us/step\n",
            "accuracy: 98.69886040687561\n"
          ],
          "name": "stdout"
        }
      ]
    },
    {
      "cell_type": "code",
      "metadata": {
        "id": "B_1kUfsC5Y0s",
        "colab_type": "code",
        "colab": {
          "base_uri": "https://localhost:8080/",
          "height": 34
        },
        "outputId": "ec6332a9-d5ed-40a5-a6aa-70cb8b95cfdd"
      },
      "source": [
        "from keras.models import load_model\n",
        "model_json = model.to_json()\n",
        "with open(\"/content/gdrive/My Drive/Colab Notebooks/urduPOS.json\", \"w\") as json_file:\n",
        "  json_file.write(model_json)\n",
        "model.save(\"/content/gdrive/My Drive/Colab Notebooks/urduPOS.h5\")\n",
        "print(\"Savedmodel to drive\")"
      ],
      "execution_count": 17,
      "outputs": [
        {
          "output_type": "stream",
          "text": [
            "Savedmodel to drive\n"
          ],
          "name": "stdout"
        }
      ]
    },
    {
      "cell_type": "code",
      "metadata": {
        "id": "Y-pTHJgi5zmF",
        "colab_type": "code",
        "colab": {}
      },
      "source": [
        "test_samples = [\n",
        "    test_sentences[0]\n",
        "]\n",
        "\n",
        "test_samples_X = []\n",
        "for s in test_samples:\n",
        "    s_int = []\n",
        "    for w in s:\n",
        "        try:\n",
        "            s_int.append(word2index[w.lower()])\n",
        "        except KeyError:\n",
        "            s_int.append(word2index['-OOV-'])\n",
        "    test_samples_X.append(s_int)\n",
        "\n",
        "test_samples_X = pad_sequences(test_samples_X, maxlen=MAX_LENGTH, padding='post')"
      ],
      "execution_count": 0,
      "outputs": []
    },
    {
      "cell_type": "code",
      "metadata": {
        "id": "191MHITY53nl",
        "colab_type": "code",
        "colab": {
          "base_uri": "https://localhost:8080/",
          "height": 54
        },
        "outputId": "17aeb963-2a01-4bcc-ed52-ddc3c81291a2"
      },
      "source": [
        "predictions = model.predict(test_samples_X)\n",
        "print(logits_to_tokens(predictions, {i: t for t, i in tag2index.items()}))"
      ],
      "execution_count": 19,
      "outputs": [
        {
          "output_type": "stream",
          "text": [
            "[['PP', 'P', 'NN', 'AKP', 'TA', 'PP', 'AKP', 'CC', 'AKP', 'NN', 'VB', 'PP', 'P', 'NN', 'ADJ', 'P', 'VB', 'WALA', 'P', 'Q', 'NEG', 'VB', 'PM', 'PP', 'PP', 'P', 'NN', 'P', 'NEG', 'TA', 'PM', 'NN', 'P', 'NN', 'VB', 'AA', 'SC', 'PP', 'P', 'NN', 'P', 'NN', 'VB', 'AA', 'TA', 'PM', 'PP', 'P', 'NN', 'PP', 'P', 'NN', 'ADJ', 'TA', 'PM', 'SC', 'PP', 'P', 'NN', 'PP', 'VB', 'SE', 'ADJ', 'NN', 'TA', 'PM', 'SC', 'PP', 'P', 'CA', 'NN', 'GR', 'NN', 'SE', 'VB', 'G', 'NN', 'VB', 'TA', 'PP', 'ADJ', 'TA', 'PM', 'PP', 'G', 'NN', 'P', 'NN', 'PP', 'NN', 'P', 'ADJ', 'AA', 'TA', 'AP', 'P', 'NN', 'PP', 'P', 'NN', 'P', 'VB', 'P', 'NN', 'NEG', 'VB', 'VB', 'PM', 'P', 'PP', 'P', 'ADJ', 'NN', 'VB', 'G', 'NN', 'SC', 'PP', 'G', 'NN', 'VB', 'SC', 'P', 'RP', 'P', 'NN', 'P', 'Q', 'SE', 'ADJ', 'NN', 'NN', 'VB', 'PM', 'PP', 'VB', 'VB', 'NN', 'ADJ', 'AA', 'SM', '-PAD-', '-PAD-', '-PAD-', '-PAD-', '-PAD-', '-PAD-', '-PAD-', '-PAD-', '-PAD-', '-PAD-', '-PAD-', '-PAD-', '-PAD-', '-PAD-', '-PAD-', '-PAD-', '-PAD-', '-PAD-', '-PAD-', '-PAD-', '-PAD-', '-PAD-', '-PAD-', '-PAD-', '-PAD-', '-PAD-', '-PAD-', '-PAD-', '-PAD-', '-PAD-', '-PAD-', '-PAD-', '-PAD-', '-PAD-', '-PAD-', '-PAD-', '-PAD-', '-PAD-', '-PAD-', '-PAD-', '-PAD-', '-PAD-', '-PAD-', '-PAD-', '-PAD-', '-PAD-', '-PAD-', '-PAD-', '-PAD-', '-PAD-', '-PAD-', '-PAD-', '-PAD-', '-PAD-', '-PAD-', '-PAD-', '-PAD-', '-PAD-', '-PAD-', '-PAD-', '-PAD-', '-PAD-', '-PAD-', '-PAD-', '-PAD-', '-PAD-', '-PAD-', '-PAD-', '-PAD-', '-PAD-', '-PAD-', '-PAD-', '-PAD-', '-PAD-', '-PAD-', '-PAD-', '-PAD-', '-PAD-', '-PAD-', '-PAD-', '-PAD-', '-PAD-', '-PAD-', '-PAD-', '-PAD-', '-PAD-', '-PAD-', '-PAD-', '-PAD-', '-PAD-', '-PAD-', '-PAD-', '-PAD-', '-PAD-', '-PAD-', '-PAD-', '-PAD-', '-PAD-', '-PAD-', '-PAD-', '-PAD-', '-PAD-', '-PAD-', '-PAD-', '-PAD-', '-PAD-', '-PAD-', '-PAD-', '-PAD-', '-PAD-', '-PAD-', '-PAD-', '-PAD-', '-PAD-', '-PAD-', '-PAD-', '-PAD-', '-PAD-', '-PAD-', '-PAD-', '-PAD-', '-PAD-', '-PAD-', '-PAD-', '-PAD-', '-PAD-', '-PAD-', '-PAD-', '-PAD-', '-PAD-', '-PAD-', '-PAD-', '-PAD-', '-PAD-', '-PAD-', '-PAD-', '-PAD-', '-PAD-', '-PAD-', '-PAD-']]\n"
          ],
          "name": "stdout"
        }
      ]
    },
    {
      "cell_type": "code",
      "metadata": {
        "id": "Th29HG2C57YU",
        "colab_type": "code",
        "colab": {}
      },
      "source": [
        ""
      ],
      "execution_count": 0,
      "outputs": []
    }
  ]
}